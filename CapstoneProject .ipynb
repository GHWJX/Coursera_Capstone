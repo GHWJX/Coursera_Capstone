{
 "cells": [
  {
   "cell_type": "markdown",
   "metadata": {},
   "source": [
    "## The relationship between population distribution and venues division in Manhattan"
   ]
  },
  {
   "cell_type": "markdown",
   "metadata": {},
   "source": [
    "### 1.  A description of the problem and a discussion of the background."
   ]
  },
  {
   "cell_type": "markdown",
   "metadata": {},
   "source": [
    "Manhattan is New York City's most populous city, with a population of about 1.6 million as of 2017, or about 19 percent of the city's population.Manhattan is not only the city's most populous borough, but also its administrative and economic center.\n",
    "\n",
    "Last week, we divided and clustered different blocks based on site data.Therefore, whether the population of each region has an impact on business activities is ultimately reflected in different clustering results.How does the population distribution of Manhattan relate to the location division?"
   ]
  },
  {
   "cell_type": "markdown",
   "metadata": {},
   "source": [
    "### 2.  A description of the data and how it will be used to solve the problem."
   ]
  },
  {
   "cell_type": "markdown",
   "metadata": {},
   "source": [
    "a) Latitude, longitude and population of Manhattan neighborhoods\n",
    "\n",
    "By plotting the population density images of different blocks, it is convenient to directly observe the data, and also conducive to the comparison of site clustering results in the latter step.\n",
    "\n",
    "b) Foursquare location data\n",
    "\n",
    "Leverage the Foursquare location data to explore or compare neighborhoods.Divid and cluster different blocks based on those site data.\n",
    "\n",
    "c）Other data, such as land rent prices\n",
    "\n",
    "Land rent may also be a factor"
   ]
  },
  {
   "cell_type": "code",
   "execution_count": null,
   "metadata": {},
   "outputs": [],
   "source": []
  }
 ],
 "metadata": {
  "kernelspec": {
   "display_name": "Python 3",
   "language": "python",
   "name": "python3"
  },
  "language_info": {
   "codemirror_mode": {
    "name": "ipython",
    "version": 3
   },
   "file_extension": ".py",
   "mimetype": "text/x-python",
   "name": "python",
   "nbconvert_exporter": "python",
   "pygments_lexer": "ipython3",
   "version": "3.7.4"
  }
 },
 "nbformat": 4,
 "nbformat_minor": 2
}
