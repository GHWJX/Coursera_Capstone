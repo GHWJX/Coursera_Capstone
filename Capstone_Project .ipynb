{
 "cells": [
  {
   "cell_type": "markdown",
   "metadata": {},
   "source": [
    "## Find the best location to built takeaway food delivery center based on the Foursquare location data"
   ]
  },
  {
   "cell_type": "markdown",
   "metadata": {},
   "source": [
    "### 1.  A description of the problem and a discussion of the background."
   ]
  },
  {
   "cell_type": "markdown",
   "metadata": {},
   "source": [
    "With the rapid development of the Internet, the number of takeaway delivery services is increasing rapidly. According to the number and location of restaurants, select the right place to set up a delivery center to collect and deliver food, which can reduce the operating cost of restaurants. \n",
    "\n",
    "Let's say we're a delivery company and we need to build some delivery centers in Manhattan that can cover as many restaurants as possible, how to find the best location to built takeaway food delivery center based on the Foursquare location data?"
   ]
  },
  {
   "cell_type": "markdown",
   "metadata": {},
   "source": [
    "### 2.  A description of the data and how it will be used to solve the problem."
   ]
  },
  {
   "cell_type": "markdown",
   "metadata": {},
   "source": [
    "a) The name, type, longitude and latitude of the restaurants in Manhattan,\n",
    "\n",
    "Assuming that the work scope of each distribution station is determined, to find the best places, I need to know the location information of the restaurants in Manhattan, including the name, type, longitude and latitude of the restaurants.\n",
    "\n",
    "b) The number of each type of restaurants in Manhattan,\n",
    "\n",
    "The processing capacity of each employee is limited, the number of staff in the area with a large number needs to be increased appropriately, so I also need to know the number of each type of restaurants."
   ]
  },
  {
   "cell_type": "code",
   "execution_count": null,
   "metadata": {},
   "outputs": [],
   "source": []
  }
 ],
 "metadata": {
  "kernelspec": {
   "display_name": "Python 3",
   "language": "python",
   "name": "python3"
  },
  "language_info": {
   "codemirror_mode": {
    "name": "ipython",
    "version": 3
   },
   "file_extension": ".py",
   "mimetype": "text/x-python",
   "name": "python",
   "nbconvert_exporter": "python",
   "pygments_lexer": "ipython3",
   "version": "3.7.4"
  }
 },
 "nbformat": 4,
 "nbformat_minor": 2
}
